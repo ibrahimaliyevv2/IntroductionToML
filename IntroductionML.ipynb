{
  "nbformat": 4,
  "nbformat_minor": 0,
  "metadata": {
    "colab": {
      "provenance": []
    },
    "kernelspec": {
      "name": "python3",
      "display_name": "Python 3"
    },
    "language_info": {
      "name": "python"
    }
  },
  "cells": [
    {
      "cell_type": "markdown",
      "source": [
        "***Introduction to Machine Learning***\n",
        "\n",
        "Making a computer learn by analyzing data and statistics is known as **machine learning. **\n",
        "\n",
        "A **data set** is any collection of data in a computer's mind. It might be anything, including an array or a whole database.\n",
        "\n"
      ],
      "metadata": {
        "id": "q9Nx8JNmXMKF"
      }
    },
    {
      "cell_type": "markdown",
      "source": [
        "Data is a collection of samples with d features.\n",
        "\n",
        "Feature is an elementary descriptor of an entity.\n",
        "\n",
        "A sample is an entity encoding an object, usually encoded as a vector `R^d`"
      ],
      "metadata": {
        "id": "JxcVX8jRYCwk"
      }
    },
    {
      "cell_type": "markdown",
      "source": [
        "Let us consider a dataset composed N samples and each sample being encoded by d features:\n",
        "\n",
        "Data: `X∈R^n*d`\n",
        "Sample: `x∈R^d`\n"
      ],
      "metadata": {
        "id": "I3WvYQpgY-F7"
      }
    },
    {
      "cell_type": "markdown",
      "source": [
        "***Mean, median and mode***\n",
        "\n",
        "As we know from statistics:\n",
        "\n",
        "Mean is the average value\n",
        "Median is the mid point value\n",
        "Mode is the most common value"
      ],
      "metadata": {
        "id": "uvJqlRo0Zkhd"
      }
    },
    {
      "cell_type": "markdown",
      "source": [
        "Let us suppose we have a list of speed of 13 cars like below:\n",
        "\n",
        "`speed = [99,86,87,88,111,86,103,87,94,78,77,85,86]`\n",
        "\n",
        "Let us calculate mean, median and mode for this list using numpy and scipy libraries:"
      ],
      "metadata": {
        "id": "TBzeVAJCaQUt"
      }
    },
    {
      "cell_type": "code",
      "source": [
        "import numpy as np\n",
        "from scipy import stats\n",
        "\n",
        "speed = [99,86,87,88,111,86,103,87,94,78,77,85,86]\n",
        "\n",
        "print(\"Mean: \", np.mean(speed))\n",
        "\n",
        "print(\"Median: \", np.median(speed))\n",
        "\n",
        "print(\"Mode: \", stats.mode(speed))"
      ],
      "metadata": {
        "colab": {
          "base_uri": "https://localhost:8080/"
        },
        "id": "gTCrXkZgakb6",
        "outputId": "69ec78c7-24f2-4192-b8a5-d8ba9b80d54a"
      },
      "execution_count": 4,
      "outputs": [
        {
          "output_type": "stream",
          "name": "stdout",
          "text": [
            "Mean:  89.76923076923077\n",
            "Median:  87.0\n",
            "Mode:  ModeResult(mode=array([86]), count=array([3]))\n"
          ]
        }
      ]
    },
    {
      "cell_type": "markdown",
      "source": [
        "Standard deviation is a number that describes how spread out the values are."
      ],
      "metadata": {
        "id": "YE0A_3irhNGQ"
      }
    },
    {
      "cell_type": "code",
      "source": [
        "print(\"Standart deviation: \", np.std(speed))"
      ],
      "metadata": {
        "colab": {
          "base_uri": "https://localhost:8080/"
        },
        "id": "IQxOfWm6hT3u",
        "outputId": "4ced8400-3340-4aaa-c581-06e67e2988c7"
      },
      "execution_count": 6,
      "outputs": [
        {
          "output_type": "stream",
          "name": "stdout",
          "text": [
            "Standart deviation:  9.258292301032677\n"
          ]
        }
      ]
    },
    {
      "cell_type": "markdown",
      "source": [
        "Variance is a measurement of the spread between numbers in a data set. \n",
        "\n",
        "To calculate the variance you have to do as follows:\n",
        "\n",
        "1. Find the mean:\n",
        "`(32+111+138+28+59+77+97) / 7 = 77.4`\n",
        "\n",
        "2. For each value: find the difference from the mean:\n",
        "\n",
        "`32 - 77.4 = -45.`\n",
        "\n",
        "`111 - 77.4 =  33.6`\n",
        "\n",
        "`138 - 77.4 =  60.6`\n",
        "\n",
        " `28 - 77.4 = -49.4`\n",
        "\n",
        " `59 - 77.4 = -18.4`\n",
        "\n",
        "` 77 - 77.4 = - 0.4`\n",
        "\n",
        "` 97 - 77.4 =  19.6`\n",
        "\n",
        "3. For each difference: find the square value:\n",
        "\n",
        "`(-45.4)2 = 2061.16`\n",
        "\n",
        "` (33.6)2 = 1128.96`\n",
        "\n",
        "` (60.6)2 = 3672.36`\n",
        "\n",
        "`(-49.4)2 = 2440.36`\n",
        "\n",
        "`(-18.4)2 =  338.56`\n",
        "\n",
        "`(- 0.4)2 =    0.16`\n",
        "\n",
        "` (19.6)2 =  384.16`\n",
        "\n",
        "4. The variance is the average number of these squared differences:\n",
        "\n",
        "`(2061.16+1128.96+3672.36+2440.36+338.56+0.16+384.16) / 7 = 1432.2`\n",
        "\n",
        "Let us calculate variance for our list (speed) using numpy library's **var** function:"
      ],
      "metadata": {
        "id": "fvkDapL6iuj5"
      }
    },
    {
      "cell_type": "code",
      "source": [
        "print(\"Variance: \", np.var(speed))"
      ],
      "metadata": {
        "colab": {
          "base_uri": "https://localhost:8080/"
        },
        "id": "ON4jnIp5j1jB",
        "outputId": "398aeaf2-59ab-42b9-ddc8-a67903cf86e8"
      },
      "execution_count": 7,
      "outputs": [
        {
          "output_type": "stream",
          "name": "stdout",
          "text": [
            "Variance:  85.71597633136093\n"
          ]
        }
      ]
    },
    {
      "cell_type": "markdown",
      "source": [
        "Standart deviation is a square root of variance."
      ],
      "metadata": {
        "id": "spVdk3JmkGbs"
      }
    }
  ]
}