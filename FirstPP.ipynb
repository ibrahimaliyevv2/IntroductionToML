{
  "cells": [
    {
      "cell_type": "code",
      "execution_count": 40,
      "id": "284c5bfa-12b0-42a6-b043-24ce37f4161a",
      "metadata": {
        "id": "284c5bfa-12b0-42a6-b043-24ce37f4161a"
      },
      "outputs": [],
      "source": [
        "#numpy, scipy\n",
        "import numpy as np\n",
        "import scipy as sp\n",
        "#matplotlib\n",
        "import matplotlib.pyplot as plt\n",
        "#scikit-learn\n",
        "import sklearn"
      ]
    },
    {
      "cell_type": "code",
      "execution_count": 2,
      "id": "f91647bb-96f6-46b4-b5a9-8bd0becc341b",
      "metadata": {
        "id": "f91647bb-96f6-46b4-b5a9-8bd0becc341b"
      },
      "outputs": [],
      "source": [
        "from sklearn.datasets import load_iris"
      ]
    },
    {
      "cell_type": "code",
      "execution_count": 3,
      "id": "d9fe4beb-5fa6-4540-ba6c-3b771ac2b7f9",
      "metadata": {
        "id": "d9fe4beb-5fa6-4540-ba6c-3b771ac2b7f9"
      },
      "outputs": [],
      "source": [
        "data, y = load_iris(return_X_y=True)"
      ]
    },
    {
      "cell_type": "code",
      "source": [
        "data"
      ],
      "metadata": {
        "colab": {
          "base_uri": "https://localhost:8080/"
        },
        "id": "6eTPvWkRQXFK",
        "outputId": "54810936-fb1d-425a-9ce2-f17b253fcede"
      },
      "id": "6eTPvWkRQXFK",
      "execution_count": 41,
      "outputs": [
        {
          "output_type": "execute_result",
          "data": {
            "text/plain": [
              "array([[5.1, 3.5, 1.4, 0.2],\n",
              "       [4.9, 3. , 1.4, 0.2],\n",
              "       [4.7, 3.2, 1.3, 0.2],\n",
              "       [4.6, 3.1, 1.5, 0.2],\n",
              "       [5. , 3.6, 1.4, 0.2],\n",
              "       [5.4, 3.9, 1.7, 0.4],\n",
              "       [4.6, 3.4, 1.4, 0.3],\n",
              "       [5. , 3.4, 1.5, 0.2],\n",
              "       [4.4, 2.9, 1.4, 0.2],\n",
              "       [4.9, 3.1, 1.5, 0.1],\n",
              "       [5.4, 3.7, 1.5, 0.2],\n",
              "       [4.8, 3.4, 1.6, 0.2],\n",
              "       [4.8, 3. , 1.4, 0.1],\n",
              "       [4.3, 3. , 1.1, 0.1],\n",
              "       [5.8, 4. , 1.2, 0.2],\n",
              "       [5.7, 4.4, 1.5, 0.4],\n",
              "       [5.4, 3.9, 1.3, 0.4],\n",
              "       [5.1, 3.5, 1.4, 0.3],\n",
              "       [5.7, 3.8, 1.7, 0.3],\n",
              "       [5.1, 3.8, 1.5, 0.3],\n",
              "       [5.4, 3.4, 1.7, 0.2],\n",
              "       [5.1, 3.7, 1.5, 0.4],\n",
              "       [4.6, 3.6, 1. , 0.2],\n",
              "       [5.1, 3.3, 1.7, 0.5],\n",
              "       [4.8, 3.4, 1.9, 0.2],\n",
              "       [5. , 3. , 1.6, 0.2],\n",
              "       [5. , 3.4, 1.6, 0.4],\n",
              "       [5.2, 3.5, 1.5, 0.2],\n",
              "       [5.2, 3.4, 1.4, 0.2],\n",
              "       [4.7, 3.2, 1.6, 0.2],\n",
              "       [4.8, 3.1, 1.6, 0.2],\n",
              "       [5.4, 3.4, 1.5, 0.4],\n",
              "       [5.2, 4.1, 1.5, 0.1],\n",
              "       [5.5, 4.2, 1.4, 0.2],\n",
              "       [4.9, 3.1, 1.5, 0.2],\n",
              "       [5. , 3.2, 1.2, 0.2],\n",
              "       [5.5, 3.5, 1.3, 0.2],\n",
              "       [4.9, 3.6, 1.4, 0.1],\n",
              "       [4.4, 3. , 1.3, 0.2],\n",
              "       [5.1, 3.4, 1.5, 0.2],\n",
              "       [5. , 3.5, 1.3, 0.3],\n",
              "       [4.5, 2.3, 1.3, 0.3],\n",
              "       [4.4, 3.2, 1.3, 0.2],\n",
              "       [5. , 3.5, 1.6, 0.6],\n",
              "       [5.1, 3.8, 1.9, 0.4],\n",
              "       [4.8, 3. , 1.4, 0.3],\n",
              "       [5.1, 3.8, 1.6, 0.2],\n",
              "       [4.6, 3.2, 1.4, 0.2],\n",
              "       [5.3, 3.7, 1.5, 0.2],\n",
              "       [5. , 3.3, 1.4, 0.2],\n",
              "       [7. , 3.2, 4.7, 1.4],\n",
              "       [6.4, 3.2, 4.5, 1.5],\n",
              "       [6.9, 3.1, 4.9, 1.5],\n",
              "       [5.5, 2.3, 4. , 1.3],\n",
              "       [6.5, 2.8, 4.6, 1.5],\n",
              "       [5.7, 2.8, 4.5, 1.3],\n",
              "       [6.3, 3.3, 4.7, 1.6],\n",
              "       [4.9, 2.4, 3.3, 1. ],\n",
              "       [6.6, 2.9, 4.6, 1.3],\n",
              "       [5.2, 2.7, 3.9, 1.4],\n",
              "       [5. , 2. , 3.5, 1. ],\n",
              "       [5.9, 3. , 4.2, 1.5],\n",
              "       [6. , 2.2, 4. , 1. ],\n",
              "       [6.1, 2.9, 4.7, 1.4],\n",
              "       [5.6, 2.9, 3.6, 1.3],\n",
              "       [6.7, 3.1, 4.4, 1.4],\n",
              "       [5.6, 3. , 4.5, 1.5],\n",
              "       [5.8, 2.7, 4.1, 1. ],\n",
              "       [6.2, 2.2, 4.5, 1.5],\n",
              "       [5.6, 2.5, 3.9, 1.1],\n",
              "       [5.9, 3.2, 4.8, 1.8],\n",
              "       [6.1, 2.8, 4. , 1.3],\n",
              "       [6.3, 2.5, 4.9, 1.5],\n",
              "       [6.1, 2.8, 4.7, 1.2],\n",
              "       [6.4, 2.9, 4.3, 1.3],\n",
              "       [6.6, 3. , 4.4, 1.4],\n",
              "       [6.8, 2.8, 4.8, 1.4],\n",
              "       [6.7, 3. , 5. , 1.7],\n",
              "       [6. , 2.9, 4.5, 1.5],\n",
              "       [5.7, 2.6, 3.5, 1. ],\n",
              "       [5.5, 2.4, 3.8, 1.1],\n",
              "       [5.5, 2.4, 3.7, 1. ],\n",
              "       [5.8, 2.7, 3.9, 1.2],\n",
              "       [6. , 2.7, 5.1, 1.6],\n",
              "       [5.4, 3. , 4.5, 1.5],\n",
              "       [6. , 3.4, 4.5, 1.6],\n",
              "       [6.7, 3.1, 4.7, 1.5],\n",
              "       [6.3, 2.3, 4.4, 1.3],\n",
              "       [5.6, 3. , 4.1, 1.3],\n",
              "       [5.5, 2.5, 4. , 1.3],\n",
              "       [5.5, 2.6, 4.4, 1.2],\n",
              "       [6.1, 3. , 4.6, 1.4],\n",
              "       [5.8, 2.6, 4. , 1.2],\n",
              "       [5. , 2.3, 3.3, 1. ],\n",
              "       [5.6, 2.7, 4.2, 1.3],\n",
              "       [5.7, 3. , 4.2, 1.2],\n",
              "       [5.7, 2.9, 4.2, 1.3],\n",
              "       [6.2, 2.9, 4.3, 1.3],\n",
              "       [5.1, 2.5, 3. , 1.1],\n",
              "       [5.7, 2.8, 4.1, 1.3],\n",
              "       [6.3, 3.3, 6. , 2.5],\n",
              "       [5.8, 2.7, 5.1, 1.9],\n",
              "       [7.1, 3. , 5.9, 2.1],\n",
              "       [6.3, 2.9, 5.6, 1.8],\n",
              "       [6.5, 3. , 5.8, 2.2],\n",
              "       [7.6, 3. , 6.6, 2.1],\n",
              "       [4.9, 2.5, 4.5, 1.7],\n",
              "       [7.3, 2.9, 6.3, 1.8],\n",
              "       [6.7, 2.5, 5.8, 1.8],\n",
              "       [7.2, 3.6, 6.1, 2.5],\n",
              "       [6.5, 3.2, 5.1, 2. ],\n",
              "       [6.4, 2.7, 5.3, 1.9],\n",
              "       [6.8, 3. , 5.5, 2.1],\n",
              "       [5.7, 2.5, 5. , 2. ],\n",
              "       [5.8, 2.8, 5.1, 2.4],\n",
              "       [6.4, 3.2, 5.3, 2.3],\n",
              "       [6.5, 3. , 5.5, 1.8],\n",
              "       [7.7, 3.8, 6.7, 2.2],\n",
              "       [7.7, 2.6, 6.9, 2.3],\n",
              "       [6. , 2.2, 5. , 1.5],\n",
              "       [6.9, 3.2, 5.7, 2.3],\n",
              "       [5.6, 2.8, 4.9, 2. ],\n",
              "       [7.7, 2.8, 6.7, 2. ],\n",
              "       [6.3, 2.7, 4.9, 1.8],\n",
              "       [6.7, 3.3, 5.7, 2.1],\n",
              "       [7.2, 3.2, 6. , 1.8],\n",
              "       [6.2, 2.8, 4.8, 1.8],\n",
              "       [6.1, 3. , 4.9, 1.8],\n",
              "       [6.4, 2.8, 5.6, 2.1],\n",
              "       [7.2, 3. , 5.8, 1.6],\n",
              "       [7.4, 2.8, 6.1, 1.9],\n",
              "       [7.9, 3.8, 6.4, 2. ],\n",
              "       [6.4, 2.8, 5.6, 2.2],\n",
              "       [6.3, 2.8, 5.1, 1.5],\n",
              "       [6.1, 2.6, 5.6, 1.4],\n",
              "       [7.7, 3. , 6.1, 2.3],\n",
              "       [6.3, 3.4, 5.6, 2.4],\n",
              "       [6.4, 3.1, 5.5, 1.8],\n",
              "       [6. , 3. , 4.8, 1.8],\n",
              "       [6.9, 3.1, 5.4, 2.1],\n",
              "       [6.7, 3.1, 5.6, 2.4],\n",
              "       [6.9, 3.1, 5.1, 2.3],\n",
              "       [5.8, 2.7, 5.1, 1.9],\n",
              "       [6.8, 3.2, 5.9, 2.3],\n",
              "       [6.7, 3.3, 5.7, 2.5],\n",
              "       [6.7, 3. , 5.2, 2.3],\n",
              "       [6.3, 2.5, 5. , 1.9],\n",
              "       [6.5, 3. , 5.2, 2. ],\n",
              "       [6.2, 3.4, 5.4, 2.3],\n",
              "       [5.9, 3. , 5.1, 1.8]])"
            ]
          },
          "metadata": {},
          "execution_count": 41
        }
      ]
    },
    {
      "cell_type": "code",
      "source": [
        "data[4]"
      ],
      "metadata": {
        "colab": {
          "base_uri": "https://localhost:8080/"
        },
        "id": "a2FyYmrgQarI",
        "outputId": "01b889c6-4363-4bd1-a2e4-9aaee27cd7a5"
      },
      "id": "a2FyYmrgQarI",
      "execution_count": 44,
      "outputs": [
        {
          "output_type": "execute_result",
          "data": {
            "text/plain": [
              "array([5. , 3.6, 1.4, 0.2])"
            ]
          },
          "metadata": {},
          "execution_count": 44
        }
      ]
    },
    {
      "cell_type": "code",
      "execution_count": 4,
      "id": "7817046b-fd2b-4354-91f8-2471d0b0b78f",
      "metadata": {
        "colab": {
          "base_uri": "https://localhost:8080/"
        },
        "id": "7817046b-fd2b-4354-91f8-2471d0b0b78f",
        "outputId": "6f3246d9-7e19-4c79-8e4e-7e5b466ddbb4"
      },
      "outputs": [
        {
          "output_type": "stream",
          "name": "stdout",
          "text": [
            "number of lines 150\n",
            "number of columns 4\n"
          ]
        }
      ],
      "source": [
        "N, d = np.shape(data)\n",
        "print(f\"number of lines {N}\")\n",
        "print(f\"number of columns {d}\")\n"
      ]
    },
    {
      "cell_type": "code",
      "execution_count": 5,
      "id": "3b3a7d39-56d1-46ed-8d1d-e1b0e76be28d",
      "metadata": {
        "id": "3b3a7d39-56d1-46ed-8d1d-e1b0e76be28d"
      },
      "outputs": [],
      "source": [
        "X=data"
      ]
    },
    {
      "cell_type": "code",
      "execution_count": 6,
      "id": "d75c3ee4-015c-4d51-85f5-7267ef627811",
      "metadata": {
        "colab": {
          "base_uri": "https://localhost:8080/",
          "height": 265
        },
        "id": "d75c3ee4-015c-4d51-85f5-7267ef627811",
        "outputId": "18cf524f-e568-46d3-960f-6c9c3395489a"
      },
      "outputs": [
        {
          "output_type": "display_data",
          "data": {
            "text/plain": [
              "<Figure size 432x288 with 1 Axes>"
            ],
            "image/png": "[encoded data removed]"
          },
          "metadata": {
            "needs_background": "light"
          }
        }
      ],
      "source": [
        "plt.boxplot(X);"
      ]
    },
    {
      "cell_type": "code",
      "execution_count": 7,
      "id": "2c9e46b4-faa2-47c8-a553-50f952d5a393",
      "metadata": {
        "id": "2c9e46b4-faa2-47c8-a553-50f952d5a393"
      },
      "outputs": [],
      "source": [
        "means = np.mean(X,axis=0)"
      ]
    },
    {
      "cell_type": "code",
      "execution_count": 8,
      "id": "9291a7f6-1bb6-4516-a81a-3779b7f07474",
      "metadata": {
        "id": "9291a7f6-1bb6-4516-a81a-3779b7f07474"
      },
      "outputs": [],
      "source": [
        "stds = np.std(X,axis=0)"
      ]
    },
    {
      "cell_type": "code",
      "execution_count": 9,
      "id": "2b96cec0-6298-4b05-9f04-5a30c3523c30",
      "metadata": {
        "id": "2b96cec0-6298-4b05-9f04-5a30c3523c30"
      },
      "outputs": [],
      "source": [
        "X_norm = (X - means)/stds"
      ]
    },
    {
      "cell_type": "code",
      "execution_count": 10,
      "id": "b6c901bf-4be7-4140-952f-d8e494b97df4",
      "metadata": {
        "colab": {
          "base_uri": "https://localhost:8080/",
          "height": 265
        },
        "id": "b6c901bf-4be7-4140-952f-d8e494b97df4",
        "outputId": "0ac5a37b-a318-4a28-b1a8-2cc4e1c9457b"
      },
      "outputs": [
        {
          "output_type": "display_data",
          "data": {
            "text/plain": [
              "<Figure size 432x288 with 1 Axes>"
            ],
            "image/png": "[encoded data removed]"
          },
          "metadata": {
            "needs_background": "light"
          }
        }
      ],
      "source": [
        "plt.boxplot(X_norm);"
      ]
    },
    {
      "cell_type": "code",
      "execution_count": 11,
      "id": "c3369a05-3f06-42af-b5ec-eb6355cc3a76",
      "metadata": {
        "colab": {
          "base_uri": "https://localhost:8080/",
          "height": 317
        },
        "id": "c3369a05-3f06-42af-b5ec-eb6355cc3a76",
        "outputId": "fa4452e4-15e6-4343-f075-7fbac005f7b0"
      },
      "outputs": [
        {
          "output_type": "execute_result",
          "data": {
            "text/plain": [
              "(array([50.,  0.,  0.,  0.,  0., 50.,  0.,  0.,  0., 50.]),\n",
              " array([0. , 0.2, 0.4, 0.6, 0.8, 1. , 1.2, 1.4, 1.6, 1.8, 2. ]),\n",
              " <a list of 10 Patch objects>)"
            ]
          },
          "metadata": {},
          "execution_count": 11
        },
        {
          "output_type": "display_data",
          "data": {
            "text/plain": [
              "<Figure size 432x288 with 1 Axes>"
            ],
            "image/png": "[encoded data removed]"
          },
          "metadata": {
            "needs_background": "light"
          }
        }
      ],
      "source": [
        "plt.hist(y)"
      ]
    },
    {
      "cell_type": "code",
      "execution_count": 12,
      "id": "5a0019ef-008e-4f68-9bb0-34f13a2623b8",
      "metadata": {
        "colab": {
          "base_uri": "https://localhost:8080/",
          "height": 285
        },
        "id": "5a0019ef-008e-4f68-9bb0-34f13a2623b8",
        "outputId": "a6a183db-9765-426a-b43b-12456d8ce5f6"
      },
      "outputs": [
        {
          "output_type": "execute_result",
          "data": {
            "text/plain": [
              "<matplotlib.collections.PathCollection at 0x7f41a83f4f90>"
            ]
          },
          "metadata": {},
          "execution_count": 12
        },
        {
          "output_type": "display_data",
          "data": {
            "text/plain": [
              "<Figure size 432x288 with 1 Axes>"
            ],
            "image/png": "[encoded data removed]"
          },
          "metadata": {
            "needs_background": "light"
          }
        }
      ],
      "source": [
        "plt.scatter(X[:,0], X[:,1],c=y)"
      ]
    },
    {
      "cell_type": "code",
      "execution_count": 13,
      "id": "e60081f5-ccd8-4f41-9dce-ab7d474fc2ab",
      "metadata": {
        "colab": {
          "base_uri": "https://localhost:8080/",
          "height": 282
        },
        "id": "e60081f5-ccd8-4f41-9dce-ab7d474fc2ab",
        "outputId": "013d00eb-2854-46b8-f208-38819cc023bc"
      },
      "outputs": [
        {
          "output_type": "execute_result",
          "data": {
            "text/plain": [
              "[<matplotlib.lines.Line2D at 0x7f41a8386450>]"
            ]
          },
          "metadata": {},
          "execution_count": 13
        },
        {
          "output_type": "display_data",
          "data": {
            "text/plain": [
              "<Figure size 432x288 with 1 Axes>"
            ],
            "image/png": "[encoded data removed]"
          },
          "metadata": {
            "needs_background": "light"
          }
        }
      ],
      "source": [
        "plt.plot(X[:,0])"
      ]
    },
    {
      "cell_type": "code",
      "execution_count": 14,
      "id": "14f2d483-2533-4089-b3f5-ee5aad40bc89",
      "metadata": {
        "colab": {
          "base_uri": "https://localhost:8080/"
        },
        "id": "14f2d483-2533-4089-b3f5-ee5aad40bc89",
        "outputId": "b6f527c8-7273-47c9-8532-072bec537744"
      },
      "outputs": [
        {
          "output_type": "execute_result",
          "data": {
            "text/plain": [
              "(150, 4)"
            ]
          },
          "metadata": {},
          "execution_count": 14
        }
      ],
      "source": [
        "X.shape"
      ]
    },
    {
      "cell_type": "code",
      "execution_count": 15,
      "id": "6659925b-11a0-4d23-8b4f-05c7639a64c9",
      "metadata": {
        "colab": {
          "base_uri": "https://localhost:8080/"
        },
        "id": "6659925b-11a0-4d23-8b4f-05c7639a64c9",
        "outputId": "e0b37a57-0510-4cc4-be4c-8920cf55a2b1"
      },
      "outputs": [
        {
          "output_type": "execute_result",
          "data": {
            "text/plain": [
              "150"
            ]
          },
          "metadata": {},
          "execution_count": 15
        }
      ],
      "source": [
        "y.shape\n",
        "N"
      ]
    },
    {
      "cell_type": "code",
      "execution_count": 16,
      "id": "55231a89-dde3-4b05-b832-fa495914d15d",
      "metadata": {
        "colab": {
          "base_uri": "https://localhost:8080/"
        },
        "id": "55231a89-dde3-4b05-b832-fa495914d15d",
        "outputId": "e85e147a-a776-4d48-fcc3-ef8359a6b1c2"
      },
      "outputs": [
        {
          "output_type": "execute_result",
          "data": {
            "text/plain": [
              "SVC(C=10000)"
            ]
          },
          "metadata": {},
          "execution_count": 16
        }
      ],
      "source": [
        "from sklearn.svm import SVC\n",
        "my_classifier = SVC(C=10000)\n",
        "my_classifier.fit(X,y)"
      ]
    },
    {
      "cell_type": "code",
      "execution_count": 17,
      "id": "71114891-0a6e-4294-a674-abc0b11679c8",
      "metadata": {
        "colab": {
          "base_uri": "https://localhost:8080/"
        },
        "id": "71114891-0a6e-4294-a674-abc0b11679c8",
        "outputId": "ac9a901a-8eec-4eae-9443-75ff213f1487"
      },
      "outputs": [
        {
          "output_type": "stream",
          "name": "stdout",
          "text": [
            "prediction ok\n",
            "prediction ok\n",
            "prediction ok\n",
            "prediction ok\n",
            "prediction ok\n",
            "prediction ok\n",
            "prediction ok\n",
            "prediction ok\n",
            "prediction ok\n",
            "prediction ok\n",
            "prediction ok\n",
            "prediction ok\n",
            "prediction ok\n",
            "prediction ok\n",
            "prediction ok\n",
            "prediction ok\n",
            "prediction ok\n",
            "prediction ok\n",
            "prediction ok\n",
            "prediction ok\n",
            "prediction ok\n",
            "prediction ok\n",
            "prediction ok\n",
            "prediction ok\n",
            "prediction ok\n",
            "prediction ok\n",
            "prediction ok\n",
            "prediction ok\n",
            "prediction ok\n",
            "prediction ok\n",
            "prediction ok\n",
            "prediction ok\n",
            "prediction ok\n",
            "prediction ok\n",
            "prediction ok\n",
            "prediction ok\n",
            "prediction ok\n",
            "prediction ok\n",
            "prediction ok\n",
            "prediction ok\n",
            "prediction ok\n",
            "prediction ok\n",
            "prediction ok\n",
            "prediction ok\n",
            "prediction ok\n",
            "prediction ok\n",
            "prediction ok\n",
            "prediction ok\n",
            "prediction ok\n",
            "prediction ok\n",
            "prediction ok\n",
            "prediction ok\n",
            "prediction ok\n",
            "prediction ok\n",
            "prediction ok\n",
            "prediction ok\n",
            "prediction ok\n",
            "prediction ok\n",
            "prediction ok\n",
            "prediction ok\n",
            "prediction ok\n",
            "prediction ok\n",
            "prediction ok\n",
            "prediction ok\n",
            "prediction ok\n",
            "prediction ok\n",
            "prediction ok\n",
            "prediction ok\n",
            "prediction ok\n",
            "prediction ok\n",
            "prediction ok\n",
            "prediction ok\n",
            "prediction ok\n",
            "prediction ok\n",
            "prediction ok\n",
            "prediction ok\n",
            "prediction ok\n",
            "prediction ok\n",
            "prediction ok\n",
            "prediction ok\n",
            "prediction ok\n",
            "prediction ok\n",
            "prediction ok\n",
            "Error on sample number 83\n",
            "prediction ok\n",
            "prediction ok\n",
            "prediction ok\n",
            "prediction ok\n",
            "prediction ok\n",
            "prediction ok\n",
            "prediction ok\n",
            "prediction ok\n",
            "prediction ok\n",
            "prediction ok\n",
            "prediction ok\n",
            "prediction ok\n",
            "prediction ok\n",
            "prediction ok\n",
            "prediction ok\n",
            "prediction ok\n",
            "prediction ok\n",
            "prediction ok\n",
            "prediction ok\n",
            "prediction ok\n",
            "prediction ok\n",
            "prediction ok\n",
            "prediction ok\n",
            "prediction ok\n",
            "prediction ok\n",
            "prediction ok\n",
            "prediction ok\n",
            "prediction ok\n",
            "prediction ok\n",
            "prediction ok\n",
            "prediction ok\n",
            "prediction ok\n",
            "prediction ok\n",
            "prediction ok\n",
            "prediction ok\n",
            "prediction ok\n",
            "prediction ok\n",
            "prediction ok\n",
            "prediction ok\n",
            "prediction ok\n",
            "prediction ok\n",
            "prediction ok\n",
            "prediction ok\n",
            "prediction ok\n",
            "prediction ok\n",
            "prediction ok\n",
            "prediction ok\n",
            "prediction ok\n",
            "prediction ok\n",
            "Error on sample number 133\n",
            "prediction ok\n",
            "prediction ok\n",
            "prediction ok\n",
            "prediction ok\n",
            "prediction ok\n",
            "prediction ok\n",
            "prediction ok\n",
            "prediction ok\n",
            "prediction ok\n",
            "prediction ok\n",
            "prediction ok\n",
            "prediction ok\n",
            "prediction ok\n",
            "prediction ok\n",
            "prediction ok\n",
            "prediction ok\n"
          ]
        }
      ],
      "source": [
        "for i in range(N):\n",
        "    my_prediction = my_classifier.predict(X[i,:].reshape(1,-1))\n",
        "    if (my_prediction == y[i]):\n",
        "        print(\"prediction ok\")\n",
        "    else:\n",
        "        print(f\"Error on sample number {i}\")\n",
        "    "
      ]
    },
    {
      "cell_type": "code",
      "execution_count": 18,
      "id": "d9a47b3c-ac39-40e6-8da3-6105ee588e37",
      "metadata": {
        "colab": {
          "base_uri": "https://localhost:8080/"
        },
        "id": "d9a47b3c-ac39-40e6-8da3-6105ee588e37",
        "outputId": "f6bf0645-0232-43fc-f1ca-a770ac5447fc"
      },
      "outputs": [
        {
          "output_type": "stream",
          "name": "stdout",
          "text": [
            "1.3333333333333335 % of prediction are wrong !!\n"
          ]
        }
      ],
      "source": [
        "number_errors = np.sum(my_classifier.predict(X) != y)\n",
        "print(f\"{(number_errors/N)*100} % of prediction are wrong !!\")"
      ]
    },
    {
      "cell_type": "code",
      "execution_count": 39,
      "id": "5e27a05c-3bc3-4a10-b193-2ad25419987f",
      "metadata": {
        "colab": {
          "base_uri": "https://localhost:8080/"
        },
        "id": "5e27a05c-3bc3-4a10-b193-2ad25419987f",
        "outputId": "d84d6695-35b9-4ab3-c81c-95d7f9ba8df2"
      },
      "outputs": [
        {
          "output_type": "stream",
          "name": "stdout",
          "text": [
            "[[1 2 3]\n",
            " [4 5 6]\n",
            " [7 8 9]]\n"
          ]
        }
      ],
      "source": [
        "array_new = [\n",
        "    [1,2,3],\n",
        "    [4,5,6],\n",
        "    [7,8,9]\n",
        "]\n",
        "array_newnew = np.array(array_new)\n",
        "\n",
        "print(array_newnew[:])\n",
        "\n",
        "# array[row, column]\n",
        "\n"
      ]
    }
  ],
  "metadata": {
    "kernelspec": {
      "display_name": "Python 3 (ipykernel)",
      "language": "python",
      "name": "python3"
    },
    "language_info": {
      "codemirror_mode": {
        "name": "ipython",
        "version": 3
      },
      "file_extension": ".py",
      "mimetype": "text/x-python",
      "name": "python",
      "nbconvert_exporter": "python",
      "pygments_lexer": "ipython3",
      "version": "3.9.7"
    },
    "colab": {
      "provenance": []
    }
  },
  "nbformat": 4,
  "nbformat_minor": 5
}